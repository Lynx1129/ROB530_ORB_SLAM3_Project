{
 "cells": [
  {
   "cell_type": "markdown",
   "metadata": {},
   "source": [
    "## Demo notebook for accessing TartanAir data on Azure\n",
    "\n",
    "<p style=\"color:red\"> <b> !! NOTE: This sample file should only be used on Azure. To download the data to your local machine, please refer to the download instructions <a href=https://github.com/castacks/tartanair_tools#download-data>here</a> or the <a href=http://theairlab.org/tartanair-dataset>dataset website</a> for the sample data. </b> </p>\n",
    "\n",
    "This notebook provides an example of accessing TartanAir data from blobl storage on Azure, including: \n",
    "\n",
    "1) navigate the directories of different environments and trajectories. \n",
    "\n",
    "2) load the data into memory, and \n",
    "\n",
    "3) visualize the data. \n",
    "\n",
    "## Data directory structure\n",
    "```\n",
    "ROOT\n",
    "|\n",
    "--- ENV_NAME_0                             # environment folder\n",
    "|       |\n",
    "|       ---- Easy                          # difficulty level\n",
    "|       |      |\n",
    "|       |      ---- P000                   # trajectory folder\n",
    "|       |      |      |\n",
    "|       |      |      +--- depth_left      # 000000_left_depth.npy - 000xxx_left_depth.npy\n",
    "|       |      |      +--- depth_right     # 000000_right_depth.npy - 000xxx_right_depth.npy\n",
    "|       |      |      +--- flow            # 000000_000001_flow/mask.npy - 000xxx_000xxx_flow/mask.npy\n",
    "|       |      |      +--- image_left      # 000000_left.png - 000xxx_left.png \n",
    "|       |      |      +--- image_right     # 000000_right.png - 000xxx_right.png \n",
    "|       |      |      +--- seg_left        # 000000_left_seg.npy - 000xxx_left_seg.npy\n",
    "|       |      |      +--- seg_right       # 000000_right_seg.npy - 000xxx_right_seg.npy\n",
    "|       |      |      ---- pose_left.txt \n",
    "|       |      |      ---- pose_right.txt\n",
    "|       |      |  \n",
    "|       |      +--- P001\n",
    "|       |      .\n",
    "|       |      .\n",
    "|       |      |\n",
    "|       |      +--- P00K\n",
    "|       |\n",
    "|       +--- Hard\n",
    "|\n",
    "+-- ENV_NAME_1\n",
    ".\n",
    ".\n",
    "|\n",
    "+-- ENV_NAME_N\n",
    " ```"
   ]
  },
  {
   "cell_type": "markdown",
   "metadata": {},
   "source": [
    "## Notebook dependencies\n",
    "`pip install numpy`\n",
    "\n",
    "`pip install azure-storage-blob`\n",
    "\n",
    "`pip install opencv-python`"
   ]
  },
  {
   "cell_type": "markdown",
   "metadata": {},
   "source": [
    "## Imports and contrainer_client"
   ]
  },
  {
   "cell_type": "code",
   "execution_count": 1,
   "metadata": {},
   "outputs": [],
   "source": [
    "from azure.storage.blob import ContainerClient\n",
    "import numpy as np\n",
    "import io\n",
    "import cv2\n",
    "import matplotlib.pyplot as plt\n",
    "import imageio\n",
    "%matplotlib inline\n",
    "\n",
    "# Dataset website: http://theairlab.org/tartanair-dataset/\n",
    "account_url = 'https://tartanair.blob.core.windows.net/'\n",
    "container_name = 'tartanair-release1'\n",
    "\n",
    "container_client = ContainerClient(account_url=account_url, \n",
    "                                 container_name=container_name,\n",
    "                                 credential=None)"
   ]
  },
  {
   "cell_type": "markdown",
   "metadata": {},
   "source": [
    "## List the environments and trajectories"
   ]
  },
  {
   "cell_type": "code",
   "execution_count": 2,
   "metadata": {},
   "outputs": [],
   "source": [
    "def get_environment_list():\n",
    "    '''\n",
    "    List all the environments shown in the root directory\n",
    "    '''\n",
    "    env_gen = container_client.walk_blobs()\n",
    "    envlist = []\n",
    "    for env in env_gen:\n",
    "        envlist.append(env.name)\n",
    "    return envlist\n",
    "\n",
    "def get_trajectory_list(envname, easy_hard = 'Easy'):\n",
    "    '''\n",
    "    List all the trajectory folders, which is named as 'P0XX'\n",
    "    '''\n",
    "    assert(easy_hard=='Easy' or easy_hard=='Hard')\n",
    "    traj_gen = container_client.walk_blobs(name_starts_with=envname + '/' + easy_hard+'/')\n",
    "    trajlist = []\n",
    "    for traj in traj_gen:\n",
    "        trajname = traj.name\n",
    "        trajname_split = trajname.split('/')\n",
    "        trajname_split = [tt for tt in trajname_split if len(tt)>0]\n",
    "        if trajname_split[-1][0] == 'P':\n",
    "            trajlist.append(trajname)\n",
    "    return trajlist\n",
    "\n",
    "def _list_blobs_in_folder(folder_name):\n",
    "    \"\"\"\n",
    "    List all blobs in a virtual folder in an Azure blob container\n",
    "    \"\"\"\n",
    "    \n",
    "    files = []\n",
    "    generator = container_client.list_blobs(name_starts_with=folder_name)\n",
    "    for blob in generator:\n",
    "        files.append(blob.name)\n",
    "    return files\n",
    "\n",
    "def get_image_list(trajdir, left_right = 'left'):\n",
    "    assert(left_right == 'left' or left_right == 'right')\n",
    "    files = _list_blobs_in_folder(trajdir + '/image_' + left_right + '/')\n",
    "    files = [fn for fn in files if fn.endswith('.png')]\n",
    "    return files\n",
    "\n",
    "def get_depth_list(trajdir, left_right = 'left'):\n",
    "    assert(left_right == 'left' or left_right == 'right')\n",
    "    files = _list_blobs_in_folder(trajdir + '/depth_' + left_right + '/')\n",
    "    files = [fn for fn in files if fn.endswith('.npy')]\n",
    "    return files\n",
    "\n",
    "def get_flow_list(trajdir, ):\n",
    "    files = _list_blobs_in_folder(trajdir + '/flow/')\n",
    "    files = [fn for fn in files if fn.endswith('flow.npy')]\n",
    "    return files\n",
    "\n",
    "def get_flow_mask_list(trajdir, ):\n",
    "    files = _list_blobs_in_folder(trajdir + '/flow/')\n",
    "    files = [fn for fn in files if fn.endswith('mask.npy')]\n",
    "    return files\n",
    "\n",
    "def get_posefile(trajdir, left_right = 'left'):\n",
    "    assert(left_right == 'left' or left_right == 'right')\n",
    "    return trajdir + '/pose_' + left_right + '.txt'\n",
    "\n",
    "def get_seg_list(trajdir, left_right = 'left'):\n",
    "    assert(left_right == 'left' or left_right == 'right')\n",
    "    files = _list_blobs_in_folder(trajdir + '/seg_' + left_right + '/')\n",
    "    files = [fn for fn in files if fn.endswith('.npy')]\n",
    "    return files"
   ]
  },
  {
   "cell_type": "markdown",
   "metadata": {},
   "source": [
    "### List all the environments "
   ]
  },
  {
   "cell_type": "code",
   "execution_count": 3,
   "metadata": {},
   "outputs": [
    {
     "name": "stdout",
     "output_type": "stream",
     "text": [
      "Find 18 environments..\n",
      "['abandonedfactory/', 'abandonedfactory_night/', 'amusement/', 'carwelding/', 'endofworld/', 'gascola/', 'hospital/', 'japanesealley/', 'neighborhood/', 'ocean/', 'office/', 'office2/', 'oldtown/', 'seasidetown/', 'seasonsforest/', 'seasonsforest_winter/', 'soulcity/', 'westerndesert/']\n"
     ]
    }
   ],
   "source": [
    "envlist = get_environment_list()\n",
    "print('Find {} environments..'.format(len(envlist)))\n",
    "print(envlist)"
   ]
  },
  {
   "cell_type": "markdown",
   "metadata": {},
   "source": [
    "### List all the 'Easy' trajectories in the first environment "
   ]
  },
  {
   "cell_type": "code",
   "execution_count": 4,
   "metadata": {},
   "outputs": [
    {
     "name": "stdout",
     "output_type": "stream",
     "text": [
      "Find 10 trajectories in abandonedfactory/Easy\n",
      "['abandonedfactory/Easy/P000/', 'abandonedfactory/Easy/P001/', 'abandonedfactory/Easy/P002/', 'abandonedfactory/Easy/P004/', 'abandonedfactory/Easy/P005/', 'abandonedfactory/Easy/P006/', 'abandonedfactory/Easy/P008/', 'abandonedfactory/Easy/P009/', 'abandonedfactory/Easy/P010/', 'abandonedfactory/Easy/P011/']\n"
     ]
    }
   ],
   "source": [
    "diff_level = 'Easy'\n",
    "env_ind = 0\n",
    "trajlist = get_trajectory_list(envlist[env_ind], easy_hard = diff_level)\n",
    "print('Find {} trajectories in {}'.format(len(trajlist), envlist[env_ind]+diff_level))\n",
    "print(trajlist)"
   ]
  },
  {
   "cell_type": "markdown",
   "metadata": {},
   "source": [
    "### List all the data files in one trajectory"
   ]
  },
  {
   "cell_type": "code",
   "execution_count": 5,
   "metadata": {},
   "outputs": [
    {
     "name": "stdout",
     "output_type": "stream",
     "text": [
      "Find 434 left images in abandonedfactory/Easy/P001/\n",
      "Find 434 right images in abandonedfactory/Easy/P001/\n",
      "Find 434 left depth files in abandonedfactory/Easy/P001/\n",
      "Find 434 right depth files in abandonedfactory/Easy/P001/\n",
      "Find 434 left segmentation files in abandonedfactory/Easy/P001/\n",
      "Find 434 right segmentation files in abandonedfactory/Easy/P001/\n",
      "Find 433 flow files in abandonedfactory/Easy/P001/\n",
      "Find 433 flow mask files in abandonedfactory/Easy/P001/\n",
      "Left pose file: abandonedfactory/Easy/P001//pose_left.txt\n",
      "Right pose file: abandonedfactory/Easy/P001//pose_right.txt\n"
     ]
    }
   ],
   "source": [
    "traj_ind = 1\n",
    "traj_dir = trajlist[traj_ind]\n",
    "\n",
    "left_img_list = get_image_list(traj_dir, left_right = 'left')\n",
    "print('Find {} left images in {}'.format(len(left_img_list), traj_dir))  \n",
    "\n",
    "right_img_list = get_image_list(traj_dir, left_right = 'right')\n",
    "print('Find {} right images in {}'.format(len(right_img_list), traj_dir))\n",
    "\n",
    "left_depth_list = get_depth_list(traj_dir, left_right = 'left')\n",
    "print('Find {} left depth files in {}'.format(len(left_depth_list), traj_dir))\n",
    "\n",
    "right_depth_list = get_depth_list(traj_dir, left_right = 'right')\n",
    "print('Find {} right depth files in {}'.format(len(right_depth_list), traj_dir))\n",
    "\n",
    "left_seg_list = get_seg_list(traj_dir, left_right = 'left')\n",
    "print('Find {} left segmentation files in {}'.format(len(left_seg_list), traj_dir))\n",
    "\n",
    "right_seg_list = get_seg_list(traj_dir, left_right = 'left')\n",
    "print('Find {} right segmentation files in {}'.format(len(right_seg_list), traj_dir))\n",
    "\n",
    "flow_list = get_flow_list(traj_dir)\n",
    "print('Find {} flow files in {}'.format(len(flow_list), traj_dir)) \n",
    "\n",
    "flow_mask_list = get_flow_mask_list(traj_dir)\n",
    "print('Find {} flow mask files in {}'.format(len(flow_mask_list), traj_dir)) \n",
    "\n",
    "left_pose_file = get_posefile(traj_dir, left_right = 'left')\n",
    "print('Left pose file: {}'.format(left_pose_file))\n",
    "\n",
    "right_pose_file = get_posefile(traj_dir, left_right = 'right')\n",
    "print('Right pose file: {}'.format(right_pose_file))"
   ]
  },
  {
   "cell_type": "markdown",
   "metadata": {},
   "source": [
    "## Functions for data downloading"
   ]
  },
  {
   "cell_type": "code",
   "execution_count": 6,
   "metadata": {},
   "outputs": [],
   "source": [
    "def read_numpy_file(numpy_file,):\n",
    "    '''\n",
    "    return a numpy array given the file path\n",
    "    '''\n",
    "    bc = container_client.get_blob_client(blob=numpy_file)\n",
    "    data = bc.download_blob()\n",
    "    ee = io.BytesIO(data.content_as_bytes())\n",
    "    ff = np.load(ee)\n",
    "    return ff\n",
    "\n",
    "\n",
    "def read_image_file(image_file,):\n",
    "    '''\n",
    "    return a uint8 numpy array given the file path  \n",
    "    '''\n",
    "    bc = container_client.get_blob_client(blob=image_file)\n",
    "    data = bc.download_blob()\n",
    "    ee = io.BytesIO(data.content_as_bytes())\n",
    "    img=cv2.imdecode(np.asarray(bytearray(ee.read()),dtype=np.uint8), cv2.IMREAD_COLOR)\n",
    "    im_rgb = img[:, :, [2, 1, 0]] # BGR2RGB\n",
    "    return im_rgb\n"
   ]
  },
  {
   "cell_type": "markdown",
   "metadata": {},
   "source": [
    "## Functions for data visualization"
   ]
  },
  {
   "cell_type": "code",
   "execution_count": 7,
   "metadata": {},
   "outputs": [],
   "source": [
    "def depth2vis(depth, maxthresh = 50):\n",
    "    depthvis = np.clip(depth,0,maxthresh)\n",
    "    depthvis = depthvis/maxthresh*255\n",
    "    depthvis = depthvis.astype(np.uint8)\n",
    "    depthvis = np.tile(depthvis.reshape(depthvis.shape+(1,)), (1,1,3))\n",
    "\n",
    "    return depthvis\n",
    "\n",
    "def seg2vis(segnp):\n",
    "    colors = np.loadtxt('seg_rgbs.txt')\n",
    "    segvis = np.zeros(segnp.shape+(3,), dtype=np.uint8)\n",
    "\n",
    "    for k in range(256):\n",
    "        mask = segnp==k\n",
    "        colorind = k % len(colors)\n",
    "        if np.sum(mask)>0:\n",
    "            segvis[mask,:] = colors[colorind]\n",
    "\n",
    "    return segvis\n",
    "\n",
    "def _calculate_angle_distance_from_du_dv(du, dv, flagDegree=False):\n",
    "    a = np.arctan2( dv, du )\n",
    "\n",
    "    angleShift = np.pi\n",
    "\n",
    "    if ( True == flagDegree ):\n",
    "        a = a / np.pi * 180\n",
    "        angleShift = 180\n",
    "        # print(\"Convert angle from radian to degree as demanded by the input file.\")\n",
    "\n",
    "    d = np.sqrt( du * du + dv * dv )\n",
    "\n",
    "    return a, d, angleShift\n",
    "\n",
    "def flow2vis(flownp, maxF=500.0, n=8, mask=None, hueMax=179, angShift=0.0): \n",
    "    \"\"\"\n",
    "    Show a optical flow field as the KITTI dataset does.\n",
    "    Some parts of this function is the transform of the original MATLAB code flow_to_color.m.\n",
    "    \"\"\"\n",
    "\n",
    "    ang, mag, _ = _calculate_angle_distance_from_du_dv( flownp[:, :, 0], flownp[:, :, 1], flagDegree=False )\n",
    "\n",
    "    # Use Hue, Saturation, Value colour model \n",
    "    hsv = np.zeros( ( ang.shape[0], ang.shape[1], 3 ) , dtype=np.float32)\n",
    "\n",
    "    am = ang < 0\n",
    "    ang[am] = ang[am] + np.pi * 2\n",
    "\n",
    "    hsv[ :, :, 0 ] = np.remainder( ( ang + angShift ) / (2*np.pi), 1 )\n",
    "    hsv[ :, :, 1 ] = mag / maxF * n\n",
    "    hsv[ :, :, 2 ] = (n - hsv[:, :, 1])/n\n",
    "\n",
    "    hsv[:, :, 0] = np.clip( hsv[:, :, 0], 0, 1 ) * hueMax\n",
    "    hsv[:, :, 1:3] = np.clip( hsv[:, :, 1:3], 0, 1 ) * 255\n",
    "    hsv = hsv.astype(np.uint8)\n",
    "\n",
    "    rgb = cv2.cvtColor(hsv, cv2.COLOR_HSV2RGB)\n",
    "\n",
    "    if ( mask is not None ):\n",
    "        mask = mask > 0\n",
    "        rgb[mask] = np.array([0, 0 ,0], dtype=np.uint8)\n",
    "\n",
    "    return rgb\n"
   ]
  },
  {
   "cell_type": "markdown",
   "metadata": {},
   "source": [
    "### Download and visualize the data"
   ]
  },
  {
   "cell_type": "code",
   "execution_count": 10,
   "metadata": {},
   "outputs": [],
   "source": [
    "for i in range(len(left_depth_list)):\n",
    "    left_depth = read_numpy_file(left_depth_list[i])\n",
    "    disparity = 80.0/left_depth\n",
    "    left_depth_vis = depth2vis(disparity)\n",
    "    if i < 10:\n",
    "        imageio.imsave(f\"sample_001/P001/depth_left_img/00000{i}_depth_left.png\", left_depth_vis)\n",
    "    elif 10 <= i < 100:\n",
    "        imageio.imsave(f\"sample_001/P001/depth_left_img/0000{i}_depth_left.png\", left_depth_vis)\n",
    "    else:\n",
    "        imageio.imsave(f\"sample_001/P001/depth_left_img/000{i}_depth_left.png\", left_depth_vis)\n"
   ]
  }
 ],
 "metadata": {
  "kernelspec": {
   "display_name": "Python 3",
   "language": "python",
   "name": "python3"
  },
  "language_info": {
   "codemirror_mode": {
    "name": "ipython",
    "version": 3
   },
   "file_extension": ".py",
   "mimetype": "text/x-python",
   "name": "python",
   "nbconvert_exporter": "python",
   "pygments_lexer": "ipython3",
   "version": "3.8.10"
  },
  "vscode": {
   "interpreter": {
    "hash": "916dbcbb3f70747c44a77c7bcd40155683ae19c65e1c03b4aa3499c5328201f1"
   }
  }
 },
 "nbformat": 4,
 "nbformat_minor": 2
}
